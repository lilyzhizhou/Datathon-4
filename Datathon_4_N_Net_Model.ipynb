{
  "nbformat": 4,
  "nbformat_minor": 0,
  "metadata": {
    "colab": {
      "provenance": [],
      "authorship_tag": "ABX9TyMbxiUjVk+YZv4jtv59wsaX",
      "include_colab_link": true
    },
    "kernelspec": {
      "name": "python3",
      "display_name": "Python 3"
    },
    "language_info": {
      "name": "python"
    }
  },
  "cells": [
    {
      "cell_type": "markdown",
      "metadata": {
        "id": "view-in-github",
        "colab_type": "text"
      },
      "source": [
        "<a href=\"https://colab.research.google.com/github/lilyzhizhou/Datathon-4/blob/main/Datathon_4_N_Net_Model.ipynb\" target=\"_parent\"><img src=\"https://colab.research.google.com/assets/colab-badge.svg\" alt=\"Open In Colab\"/></a>"
      ]
    },
    {
      "cell_type": "code",
      "execution_count": 1,
      "metadata": {
        "id": "ccZFA5Y-CWoC"
      },
      "outputs": [],
      "source": [
        "# Loading Packages\n",
        "# importing torch as t\n",
        "import pandas as pd\n",
        "pd.set_option('display.max_columns', None)\n",
        "import numpy as np\n",
        "\n",
        "import seaborn as sns\n",
        "import statsmodels.api as sm\n",
        "from sklearn.experimental import enable_iterative_imputer\n",
        "from sklearn.impute import IterativeImputer\n",
        "import warnings\n",
        "\n",
        "warnings.filterwarnings('ignore')\n",
        "\n",
        "import torch as t\n",
        "import numpy as np\n",
        "from torch.nn.functional import sigmoid, relu, tanh\n",
        "from torch.optim import Adam\n",
        "import matplotlib.pyplot as plt\n",
        "import pandas as pd\n",
        "from sklearn.preprocessing import StandardScaler\n",
        "from torch.utils.data import TensorDataset, DataLoader\n",
        "\n",
        "from torch.nn import Tanh, Linear, Sequential, Sigmoid, Dropout"
      ]
    },
    {
      "cell_type": "code",
      "source": [
        "from google.colab import drive\n",
        "drive.mount('/content/drive')"
      ],
      "metadata": {
        "colab": {
          "base_uri": "https://localhost:8080/"
        },
        "id": "agrqcpgAPLSf",
        "outputId": "f4922805-65b0-4755-df5c-cab7748e7c2d"
      },
      "execution_count": 2,
      "outputs": [
        {
          "output_type": "stream",
          "name": "stdout",
          "text": [
            "Mounted at /content/drive\n"
          ]
        }
      ]
    },
    {
      "cell_type": "code",
      "source": [
        "# Load in data\n",
        "data = pd.read_csv('/content/drive/MyDrive/Machine Learning /Datathon #4/data_clean.csv')\n",
        "\n",
        "data = data.drop('Unnamed: 0',axis = 1)\n",
        "\n",
        "# drop apache vars\n",
        "data = data.drop(['apache_4a_icu_death_prob','apache_2_diagnosis','apache_3j_diagnosis'],axis = 1)\n",
        "\n",
        "data.head()"
      ],
      "metadata": {
        "colab": {
          "base_uri": "https://localhost:8080/",
          "height": 226
        },
        "id": "lrIn8zmpPMr4",
        "outputId": "d778ac6a-c7a9-433c-c631-74a681154d40"
      },
      "execution_count": 3,
      "outputs": [
        {
          "output_type": "execute_result",
          "data": {
            "text/plain": [
              "   hospital_death   age  gender  h1_diasbp_noninvasive_max  \\\n",
              "0               0  25.0     1.0                       88.0   \n",
              "1               0  67.0     0.0                       89.0   \n",
              "2               0  70.0     0.0                       74.0   \n",
              "3               0  50.0     0.0                       83.0   \n",
              "4               0  48.0     0.0                      123.0   \n",
              "\n",
              "   h1_diasbp_noninvasive_min  h1_heartrate_max  h1_heartrate_min  \\\n",
              "0                       58.0              96.0              78.0   \n",
              "1                       89.0              83.0              83.0   \n",
              "2                       55.0             118.0             114.0   \n",
              "3                       61.0              96.0              60.0   \n",
              "4                       69.0              92.0              66.0   \n",
              "\n",
              "   h1_mbp_noninvasive_max  h1_mbp_noninvasive_min  h1_resprate_max  \\\n",
              "0                    91.0                    83.0             20.0   \n",
              "1                   111.0                   111.0             12.0   \n",
              "2                    88.0                    60.0             28.0   \n",
              "3                   101.0                    77.0             29.0   \n",
              "4                   140.0                   112.0             24.0   \n",
              "\n",
              "   h1_resprate_min  h1_spo2_max  h1_spo2_min  h1_sysbp_noninvasive_max  \\\n",
              "0             16.0         98.0         91.0                     148.0   \n",
              "1             12.0         97.0         97.0                     143.0   \n",
              "2             26.0         96.0         92.0                     119.0   \n",
              "3             17.0        100.0         96.0                     135.0   \n",
              "4             16.0         99.0         98.0                     163.0   \n",
              "\n",
              "   h1_sysbp_noninvasive_min  h1_temp_max  h1_temp_min  gcs_eyes_apache  \\\n",
              "0                     124.0         36.7         36.7              3.0   \n",
              "1                     143.0         36.7         36.7              4.0   \n",
              "2                     106.0         38.5         38.5              4.0   \n",
              "3                     103.0         36.9         36.9              4.0   \n",
              "4                     111.0         36.7         36.6              4.0   \n",
              "\n",
              "   gcs_motor_apache  gcs_verbal_apache  \n",
              "0               6.0                5.0  \n",
              "1               6.0                5.0  \n",
              "2               6.0                5.0  \n",
              "3               6.0                5.0  \n",
              "4               6.0                5.0  "
            ],
            "text/html": [
              "\n",
              "  <div id=\"df-7cf82604-d87e-4f8c-9657-b5fb430908fa\" class=\"colab-df-container\">\n",
              "    <div>\n",
              "<style scoped>\n",
              "    .dataframe tbody tr th:only-of-type {\n",
              "        vertical-align: middle;\n",
              "    }\n",
              "\n",
              "    .dataframe tbody tr th {\n",
              "        vertical-align: top;\n",
              "    }\n",
              "\n",
              "    .dataframe thead th {\n",
              "        text-align: right;\n",
              "    }\n",
              "</style>\n",
              "<table border=\"1\" class=\"dataframe\">\n",
              "  <thead>\n",
              "    <tr style=\"text-align: right;\">\n",
              "      <th></th>\n",
              "      <th>hospital_death</th>\n",
              "      <th>age</th>\n",
              "      <th>gender</th>\n",
              "      <th>h1_diasbp_noninvasive_max</th>\n",
              "      <th>h1_diasbp_noninvasive_min</th>\n",
              "      <th>h1_heartrate_max</th>\n",
              "      <th>h1_heartrate_min</th>\n",
              "      <th>h1_mbp_noninvasive_max</th>\n",
              "      <th>h1_mbp_noninvasive_min</th>\n",
              "      <th>h1_resprate_max</th>\n",
              "      <th>h1_resprate_min</th>\n",
              "      <th>h1_spo2_max</th>\n",
              "      <th>h1_spo2_min</th>\n",
              "      <th>h1_sysbp_noninvasive_max</th>\n",
              "      <th>h1_sysbp_noninvasive_min</th>\n",
              "      <th>h1_temp_max</th>\n",
              "      <th>h1_temp_min</th>\n",
              "      <th>gcs_eyes_apache</th>\n",
              "      <th>gcs_motor_apache</th>\n",
              "      <th>gcs_verbal_apache</th>\n",
              "    </tr>\n",
              "  </thead>\n",
              "  <tbody>\n",
              "    <tr>\n",
              "      <th>0</th>\n",
              "      <td>0</td>\n",
              "      <td>25.0</td>\n",
              "      <td>1.0</td>\n",
              "      <td>88.0</td>\n",
              "      <td>58.0</td>\n",
              "      <td>96.0</td>\n",
              "      <td>78.0</td>\n",
              "      <td>91.0</td>\n",
              "      <td>83.0</td>\n",
              "      <td>20.0</td>\n",
              "      <td>16.0</td>\n",
              "      <td>98.0</td>\n",
              "      <td>91.0</td>\n",
              "      <td>148.0</td>\n",
              "      <td>124.0</td>\n",
              "      <td>36.7</td>\n",
              "      <td>36.7</td>\n",
              "      <td>3.0</td>\n",
              "      <td>6.0</td>\n",
              "      <td>5.0</td>\n",
              "    </tr>\n",
              "    <tr>\n",
              "      <th>1</th>\n",
              "      <td>0</td>\n",
              "      <td>67.0</td>\n",
              "      <td>0.0</td>\n",
              "      <td>89.0</td>\n",
              "      <td>89.0</td>\n",
              "      <td>83.0</td>\n",
              "      <td>83.0</td>\n",
              "      <td>111.0</td>\n",
              "      <td>111.0</td>\n",
              "      <td>12.0</td>\n",
              "      <td>12.0</td>\n",
              "      <td>97.0</td>\n",
              "      <td>97.0</td>\n",
              "      <td>143.0</td>\n",
              "      <td>143.0</td>\n",
              "      <td>36.7</td>\n",
              "      <td>36.7</td>\n",
              "      <td>4.0</td>\n",
              "      <td>6.0</td>\n",
              "      <td>5.0</td>\n",
              "    </tr>\n",
              "    <tr>\n",
              "      <th>2</th>\n",
              "      <td>0</td>\n",
              "      <td>70.0</td>\n",
              "      <td>0.0</td>\n",
              "      <td>74.0</td>\n",
              "      <td>55.0</td>\n",
              "      <td>118.0</td>\n",
              "      <td>114.0</td>\n",
              "      <td>88.0</td>\n",
              "      <td>60.0</td>\n",
              "      <td>28.0</td>\n",
              "      <td>26.0</td>\n",
              "      <td>96.0</td>\n",
              "      <td>92.0</td>\n",
              "      <td>119.0</td>\n",
              "      <td>106.0</td>\n",
              "      <td>38.5</td>\n",
              "      <td>38.5</td>\n",
              "      <td>4.0</td>\n",
              "      <td>6.0</td>\n",
              "      <td>5.0</td>\n",
              "    </tr>\n",
              "    <tr>\n",
              "      <th>3</th>\n",
              "      <td>0</td>\n",
              "      <td>50.0</td>\n",
              "      <td>0.0</td>\n",
              "      <td>83.0</td>\n",
              "      <td>61.0</td>\n",
              "      <td>96.0</td>\n",
              "      <td>60.0</td>\n",
              "      <td>101.0</td>\n",
              "      <td>77.0</td>\n",
              "      <td>29.0</td>\n",
              "      <td>17.0</td>\n",
              "      <td>100.0</td>\n",
              "      <td>96.0</td>\n",
              "      <td>135.0</td>\n",
              "      <td>103.0</td>\n",
              "      <td>36.9</td>\n",
              "      <td>36.9</td>\n",
              "      <td>4.0</td>\n",
              "      <td>6.0</td>\n",
              "      <td>5.0</td>\n",
              "    </tr>\n",
              "    <tr>\n",
              "      <th>4</th>\n",
              "      <td>0</td>\n",
              "      <td>48.0</td>\n",
              "      <td>0.0</td>\n",
              "      <td>123.0</td>\n",
              "      <td>69.0</td>\n",
              "      <td>92.0</td>\n",
              "      <td>66.0</td>\n",
              "      <td>140.0</td>\n",
              "      <td>112.0</td>\n",
              "      <td>24.0</td>\n",
              "      <td>16.0</td>\n",
              "      <td>99.0</td>\n",
              "      <td>98.0</td>\n",
              "      <td>163.0</td>\n",
              "      <td>111.0</td>\n",
              "      <td>36.7</td>\n",
              "      <td>36.6</td>\n",
              "      <td>4.0</td>\n",
              "      <td>6.0</td>\n",
              "      <td>5.0</td>\n",
              "    </tr>\n",
              "  </tbody>\n",
              "</table>\n",
              "</div>\n",
              "    <div class=\"colab-df-buttons\">\n",
              "\n",
              "  <div class=\"colab-df-container\">\n",
              "    <button class=\"colab-df-convert\" onclick=\"convertToInteractive('df-7cf82604-d87e-4f8c-9657-b5fb430908fa')\"\n",
              "            title=\"Convert this dataframe to an interactive table.\"\n",
              "            style=\"display:none;\">\n",
              "\n",
              "  <svg xmlns=\"http://www.w3.org/2000/svg\" height=\"24px\" viewBox=\"0 -960 960 960\">\n",
              "    <path d=\"M120-120v-720h720v720H120Zm60-500h600v-160H180v160Zm220 220h160v-160H400v160Zm0 220h160v-160H400v160ZM180-400h160v-160H180v160Zm440 0h160v-160H620v160ZM180-180h160v-160H180v160Zm440 0h160v-160H620v160Z\"/>\n",
              "  </svg>\n",
              "    </button>\n",
              "\n",
              "  <style>\n",
              "    .colab-df-container {\n",
              "      display:flex;\n",
              "      gap: 12px;\n",
              "    }\n",
              "\n",
              "    .colab-df-convert {\n",
              "      background-color: #E8F0FE;\n",
              "      border: none;\n",
              "      border-radius: 50%;\n",
              "      cursor: pointer;\n",
              "      display: none;\n",
              "      fill: #1967D2;\n",
              "      height: 32px;\n",
              "      padding: 0 0 0 0;\n",
              "      width: 32px;\n",
              "    }\n",
              "\n",
              "    .colab-df-convert:hover {\n",
              "      background-color: #E2EBFA;\n",
              "      box-shadow: 0px 1px 2px rgba(60, 64, 67, 0.3), 0px 1px 3px 1px rgba(60, 64, 67, 0.15);\n",
              "      fill: #174EA6;\n",
              "    }\n",
              "\n",
              "    .colab-df-buttons div {\n",
              "      margin-bottom: 4px;\n",
              "    }\n",
              "\n",
              "    [theme=dark] .colab-df-convert {\n",
              "      background-color: #3B4455;\n",
              "      fill: #D2E3FC;\n",
              "    }\n",
              "\n",
              "    [theme=dark] .colab-df-convert:hover {\n",
              "      background-color: #434B5C;\n",
              "      box-shadow: 0px 1px 3px 1px rgba(0, 0, 0, 0.15);\n",
              "      filter: drop-shadow(0px 1px 2px rgba(0, 0, 0, 0.3));\n",
              "      fill: #FFFFFF;\n",
              "    }\n",
              "  </style>\n",
              "\n",
              "    <script>\n",
              "      const buttonEl =\n",
              "        document.querySelector('#df-7cf82604-d87e-4f8c-9657-b5fb430908fa button.colab-df-convert');\n",
              "      buttonEl.style.display =\n",
              "        google.colab.kernel.accessAllowed ? 'block' : 'none';\n",
              "\n",
              "      async function convertToInteractive(key) {\n",
              "        const element = document.querySelector('#df-7cf82604-d87e-4f8c-9657-b5fb430908fa');\n",
              "        const dataTable =\n",
              "          await google.colab.kernel.invokeFunction('convertToInteractive',\n",
              "                                                    [key], {});\n",
              "        if (!dataTable) return;\n",
              "\n",
              "        const docLinkHtml = 'Like what you see? Visit the ' +\n",
              "          '<a target=\"_blank\" href=https://colab.research.google.com/notebooks/data_table.ipynb>data table notebook</a>'\n",
              "          + ' to learn more about interactive tables.';\n",
              "        element.innerHTML = '';\n",
              "        dataTable['output_type'] = 'display_data';\n",
              "        await google.colab.output.renderOutput(dataTable, element);\n",
              "        const docLink = document.createElement('div');\n",
              "        docLink.innerHTML = docLinkHtml;\n",
              "        element.appendChild(docLink);\n",
              "      }\n",
              "    </script>\n",
              "  </div>\n",
              "\n",
              "\n",
              "<div id=\"df-03d7594e-eb87-46e0-abd3-23dbca21490d\">\n",
              "  <button class=\"colab-df-quickchart\" onclick=\"quickchart('df-03d7594e-eb87-46e0-abd3-23dbca21490d')\"\n",
              "            title=\"Suggest charts\"\n",
              "            style=\"display:none;\">\n",
              "\n",
              "<svg xmlns=\"http://www.w3.org/2000/svg\" height=\"24px\"viewBox=\"0 0 24 24\"\n",
              "     width=\"24px\">\n",
              "    <g>\n",
              "        <path d=\"M19 3H5c-1.1 0-2 .9-2 2v14c0 1.1.9 2 2 2h14c1.1 0 2-.9 2-2V5c0-1.1-.9-2-2-2zM9 17H7v-7h2v7zm4 0h-2V7h2v10zm4 0h-2v-4h2v4z\"/>\n",
              "    </g>\n",
              "</svg>\n",
              "  </button>\n",
              "\n",
              "<style>\n",
              "  .colab-df-quickchart {\n",
              "      --bg-color: #E8F0FE;\n",
              "      --fill-color: #1967D2;\n",
              "      --hover-bg-color: #E2EBFA;\n",
              "      --hover-fill-color: #174EA6;\n",
              "      --disabled-fill-color: #AAA;\n",
              "      --disabled-bg-color: #DDD;\n",
              "  }\n",
              "\n",
              "  [theme=dark] .colab-df-quickchart {\n",
              "      --bg-color: #3B4455;\n",
              "      --fill-color: #D2E3FC;\n",
              "      --hover-bg-color: #434B5C;\n",
              "      --hover-fill-color: #FFFFFF;\n",
              "      --disabled-bg-color: #3B4455;\n",
              "      --disabled-fill-color: #666;\n",
              "  }\n",
              "\n",
              "  .colab-df-quickchart {\n",
              "    background-color: var(--bg-color);\n",
              "    border: none;\n",
              "    border-radius: 50%;\n",
              "    cursor: pointer;\n",
              "    display: none;\n",
              "    fill: var(--fill-color);\n",
              "    height: 32px;\n",
              "    padding: 0;\n",
              "    width: 32px;\n",
              "  }\n",
              "\n",
              "  .colab-df-quickchart:hover {\n",
              "    background-color: var(--hover-bg-color);\n",
              "    box-shadow: 0 1px 2px rgba(60, 64, 67, 0.3), 0 1px 3px 1px rgba(60, 64, 67, 0.15);\n",
              "    fill: var(--button-hover-fill-color);\n",
              "  }\n",
              "\n",
              "  .colab-df-quickchart-complete:disabled,\n",
              "  .colab-df-quickchart-complete:disabled:hover {\n",
              "    background-color: var(--disabled-bg-color);\n",
              "    fill: var(--disabled-fill-color);\n",
              "    box-shadow: none;\n",
              "  }\n",
              "\n",
              "  .colab-df-spinner {\n",
              "    border: 2px solid var(--fill-color);\n",
              "    border-color: transparent;\n",
              "    border-bottom-color: var(--fill-color);\n",
              "    animation:\n",
              "      spin 1s steps(1) infinite;\n",
              "  }\n",
              "\n",
              "  @keyframes spin {\n",
              "    0% {\n",
              "      border-color: transparent;\n",
              "      border-bottom-color: var(--fill-color);\n",
              "      border-left-color: var(--fill-color);\n",
              "    }\n",
              "    20% {\n",
              "      border-color: transparent;\n",
              "      border-left-color: var(--fill-color);\n",
              "      border-top-color: var(--fill-color);\n",
              "    }\n",
              "    30% {\n",
              "      border-color: transparent;\n",
              "      border-left-color: var(--fill-color);\n",
              "      border-top-color: var(--fill-color);\n",
              "      border-right-color: var(--fill-color);\n",
              "    }\n",
              "    40% {\n",
              "      border-color: transparent;\n",
              "      border-right-color: var(--fill-color);\n",
              "      border-top-color: var(--fill-color);\n",
              "    }\n",
              "    60% {\n",
              "      border-color: transparent;\n",
              "      border-right-color: var(--fill-color);\n",
              "    }\n",
              "    80% {\n",
              "      border-color: transparent;\n",
              "      border-right-color: var(--fill-color);\n",
              "      border-bottom-color: var(--fill-color);\n",
              "    }\n",
              "    90% {\n",
              "      border-color: transparent;\n",
              "      border-bottom-color: var(--fill-color);\n",
              "    }\n",
              "  }\n",
              "</style>\n",
              "\n",
              "  <script>\n",
              "    async function quickchart(key) {\n",
              "      const quickchartButtonEl =\n",
              "        document.querySelector('#' + key + ' button');\n",
              "      quickchartButtonEl.disabled = true;  // To prevent multiple clicks.\n",
              "      quickchartButtonEl.classList.add('colab-df-spinner');\n",
              "      try {\n",
              "        const charts = await google.colab.kernel.invokeFunction(\n",
              "            'suggestCharts', [key], {});\n",
              "      } catch (error) {\n",
              "        console.error('Error during call to suggestCharts:', error);\n",
              "      }\n",
              "      quickchartButtonEl.classList.remove('colab-df-spinner');\n",
              "      quickchartButtonEl.classList.add('colab-df-quickchart-complete');\n",
              "    }\n",
              "    (() => {\n",
              "      let quickchartButtonEl =\n",
              "        document.querySelector('#df-03d7594e-eb87-46e0-abd3-23dbca21490d button');\n",
              "      quickchartButtonEl.style.display =\n",
              "        google.colab.kernel.accessAllowed ? 'block' : 'none';\n",
              "    })();\n",
              "  </script>\n",
              "</div>\n",
              "    </div>\n",
              "  </div>\n"
            ]
          },
          "metadata": {},
          "execution_count": 3
        }
      ]
    },
    {
      "cell_type": "code",
      "source": [
        "# Checking for death imbalance\n",
        "import plotly.express as px\n",
        "\n",
        "# Compute the count of each class in the 'target' column\n",
        "counts = data['hospital_death'].value_counts()\n",
        "\n",
        "# Define colors for the pie chart sections\n",
        "colors = ['#a3416c', '#ebc898']\n",
        "\n",
        "# Construct a pie chart with plotly\n",
        "# 'names' are the class labels, and 'values' are the counts for each class\n",
        "fig = px.pie(\n",
        "    names=counts.index,\n",
        "    values=counts.values,\n",
        "    hole=0.5,  # creates a donut-styled pie chart\n",
        "    title='Distribution of death',\n",
        "    color_discrete_sequence=colors\n",
        ")\n",
        "\n",
        "# Update the layout of the pie chart for better presentation and clarity\n",
        "fig.update_layout(\n",
        "    margin=dict(t=50, b=0, l=0, r=0),\n",
        "    legend=dict(\n",
        "        orientation=\"v\",\n",
        "        yanchor=\"top\",\n",
        "        y=0.5,\n",
        "        xanchor=\"left\",\n",
        "        x=1.05,\n",
        "        title='target'\n",
        "    ),\n",
        "    title=dict(\n",
        "        text='Distribution of Classes in death',\n",
        "        x=0.45,\n",
        "        xanchor='center',\n",
        "        y=0.95,\n",
        "        yanchor='top',\n",
        "        font=dict(size=16)\n",
        "    ),\n",
        "    width=500,\n",
        "    height=350\n",
        ")\n",
        "\n",
        "# Display the pie chart\n",
        "fig.show()"
      ],
      "metadata": {
        "id": "_1fnGlydQxnu",
        "outputId": "d65c530c-375e-4b0b-a147-e87ea59b4016",
        "colab": {
          "base_uri": "https://localhost:8080/",
          "height": 367
        }
      },
      "execution_count": null,
      "outputs": [
        {
          "output_type": "display_data",
          "data": {
            "text/html": [
              "<html>\n",
              "<head><meta charset=\"utf-8\" /></head>\n",
              "<body>\n",
              "    <div>            <script src=\"https://cdnjs.cloudflare.com/ajax/libs/mathjax/2.7.5/MathJax.js?config=TeX-AMS-MML_SVG\"></script><script type=\"text/javascript\">if (window.MathJax && window.MathJax.Hub && window.MathJax.Hub.Config) {window.MathJax.Hub.Config({SVG: {font: \"STIX-Web\"}});}</script>                <script type=\"text/javascript\">window.PlotlyConfig = {MathJaxConfig: 'local'};</script>\n",
              "        <script charset=\"utf-8\" src=\"https://cdn.plot.ly/plotly-2.24.1.min.js\"></script>                <div id=\"972b1172-faff-4a12-aca3-85e90d4989fb\" class=\"plotly-graph-div\" style=\"height:350px; width:500px;\"></div>            <script type=\"text/javascript\">                                    window.PLOTLYENV=window.PLOTLYENV || {};                                    if (document.getElementById(\"972b1172-faff-4a12-aca3-85e90d4989fb\")) {                    Plotly.newPlot(                        \"972b1172-faff-4a12-aca3-85e90d4989fb\",                        [{\"domain\":{\"x\":[0.0,1.0],\"y\":[0.0,1.0]},\"hole\":0.5,\"hovertemplate\":\"label=%{label}\\u003cbr\\u003evalue=%{value}\\u003cextra\\u003e\\u003c\\u002fextra\\u003e\",\"labels\":[0,1],\"legendgroup\":\"\",\"name\":\"\",\"showlegend\":true,\"values\":[30442,2812],\"type\":\"pie\"}],                        {\"template\":{\"data\":{\"histogram2dcontour\":[{\"type\":\"histogram2dcontour\",\"colorbar\":{\"outlinewidth\":0,\"ticks\":\"\"},\"colorscale\":[[0.0,\"#0d0887\"],[0.1111111111111111,\"#46039f\"],[0.2222222222222222,\"#7201a8\"],[0.3333333333333333,\"#9c179e\"],[0.4444444444444444,\"#bd3786\"],[0.5555555555555556,\"#d8576b\"],[0.6666666666666666,\"#ed7953\"],[0.7777777777777778,\"#fb9f3a\"],[0.8888888888888888,\"#fdca26\"],[1.0,\"#f0f921\"]]}],\"choropleth\":[{\"type\":\"choropleth\",\"colorbar\":{\"outlinewidth\":0,\"ticks\":\"\"}}],\"histogram2d\":[{\"type\":\"histogram2d\",\"colorbar\":{\"outlinewidth\":0,\"ticks\":\"\"},\"colorscale\":[[0.0,\"#0d0887\"],[0.1111111111111111,\"#46039f\"],[0.2222222222222222,\"#7201a8\"],[0.3333333333333333,\"#9c179e\"],[0.4444444444444444,\"#bd3786\"],[0.5555555555555556,\"#d8576b\"],[0.6666666666666666,\"#ed7953\"],[0.7777777777777778,\"#fb9f3a\"],[0.8888888888888888,\"#fdca26\"],[1.0,\"#f0f921\"]]}],\"heatmap\":[{\"type\":\"heatmap\",\"colorbar\":{\"outlinewidth\":0,\"ticks\":\"\"},\"colorscale\":[[0.0,\"#0d0887\"],[0.1111111111111111,\"#46039f\"],[0.2222222222222222,\"#7201a8\"],[0.3333333333333333,\"#9c179e\"],[0.4444444444444444,\"#bd3786\"],[0.5555555555555556,\"#d8576b\"],[0.6666666666666666,\"#ed7953\"],[0.7777777777777778,\"#fb9f3a\"],[0.8888888888888888,\"#fdca26\"],[1.0,\"#f0f921\"]]}],\"heatmapgl\":[{\"type\":\"heatmapgl\",\"colorbar\":{\"outlinewidth\":0,\"ticks\":\"\"},\"colorscale\":[[0.0,\"#0d0887\"],[0.1111111111111111,\"#46039f\"],[0.2222222222222222,\"#7201a8\"],[0.3333333333333333,\"#9c179e\"],[0.4444444444444444,\"#bd3786\"],[0.5555555555555556,\"#d8576b\"],[0.6666666666666666,\"#ed7953\"],[0.7777777777777778,\"#fb9f3a\"],[0.8888888888888888,\"#fdca26\"],[1.0,\"#f0f921\"]]}],\"contourcarpet\":[{\"type\":\"contourcarpet\",\"colorbar\":{\"outlinewidth\":0,\"ticks\":\"\"}}],\"contour\":[{\"type\":\"contour\",\"colorbar\":{\"outlinewidth\":0,\"ticks\":\"\"},\"colorscale\":[[0.0,\"#0d0887\"],[0.1111111111111111,\"#46039f\"],[0.2222222222222222,\"#7201a8\"],[0.3333333333333333,\"#9c179e\"],[0.4444444444444444,\"#bd3786\"],[0.5555555555555556,\"#d8576b\"],[0.6666666666666666,\"#ed7953\"],[0.7777777777777778,\"#fb9f3a\"],[0.8888888888888888,\"#fdca26\"],[1.0,\"#f0f921\"]]}],\"surface\":[{\"type\":\"surface\",\"colorbar\":{\"outlinewidth\":0,\"ticks\":\"\"},\"colorscale\":[[0.0,\"#0d0887\"],[0.1111111111111111,\"#46039f\"],[0.2222222222222222,\"#7201a8\"],[0.3333333333333333,\"#9c179e\"],[0.4444444444444444,\"#bd3786\"],[0.5555555555555556,\"#d8576b\"],[0.6666666666666666,\"#ed7953\"],[0.7777777777777778,\"#fb9f3a\"],[0.8888888888888888,\"#fdca26\"],[1.0,\"#f0f921\"]]}],\"mesh3d\":[{\"type\":\"mesh3d\",\"colorbar\":{\"outlinewidth\":0,\"ticks\":\"\"}}],\"scatter\":[{\"fillpattern\":{\"fillmode\":\"overlay\",\"size\":10,\"solidity\":0.2},\"type\":\"scatter\"}],\"parcoords\":[{\"type\":\"parcoords\",\"line\":{\"colorbar\":{\"outlinewidth\":0,\"ticks\":\"\"}}}],\"scatterpolargl\":[{\"type\":\"scatterpolargl\",\"marker\":{\"colorbar\":{\"outlinewidth\":0,\"ticks\":\"\"}}}],\"bar\":[{\"error_x\":{\"color\":\"#2a3f5f\"},\"error_y\":{\"color\":\"#2a3f5f\"},\"marker\":{\"line\":{\"color\":\"#E5ECF6\",\"width\":0.5},\"pattern\":{\"fillmode\":\"overlay\",\"size\":10,\"solidity\":0.2}},\"type\":\"bar\"}],\"scattergeo\":[{\"type\":\"scattergeo\",\"marker\":{\"colorbar\":{\"outlinewidth\":0,\"ticks\":\"\"}}}],\"scatterpolar\":[{\"type\":\"scatterpolar\",\"marker\":{\"colorbar\":{\"outlinewidth\":0,\"ticks\":\"\"}}}],\"histogram\":[{\"marker\":{\"pattern\":{\"fillmode\":\"overlay\",\"size\":10,\"solidity\":0.2}},\"type\":\"histogram\"}],\"scattergl\":[{\"type\":\"scattergl\",\"marker\":{\"colorbar\":{\"outlinewidth\":0,\"ticks\":\"\"}}}],\"scatter3d\":[{\"type\":\"scatter3d\",\"line\":{\"colorbar\":{\"outlinewidth\":0,\"ticks\":\"\"}},\"marker\":{\"colorbar\":{\"outlinewidth\":0,\"ticks\":\"\"}}}],\"scattermapbox\":[{\"type\":\"scattermapbox\",\"marker\":{\"colorbar\":{\"outlinewidth\":0,\"ticks\":\"\"}}}],\"scatterternary\":[{\"type\":\"scatterternary\",\"marker\":{\"colorbar\":{\"outlinewidth\":0,\"ticks\":\"\"}}}],\"scattercarpet\":[{\"type\":\"scattercarpet\",\"marker\":{\"colorbar\":{\"outlinewidth\":0,\"ticks\":\"\"}}}],\"carpet\":[{\"aaxis\":{\"endlinecolor\":\"#2a3f5f\",\"gridcolor\":\"white\",\"linecolor\":\"white\",\"minorgridcolor\":\"white\",\"startlinecolor\":\"#2a3f5f\"},\"baxis\":{\"endlinecolor\":\"#2a3f5f\",\"gridcolor\":\"white\",\"linecolor\":\"white\",\"minorgridcolor\":\"white\",\"startlinecolor\":\"#2a3f5f\"},\"type\":\"carpet\"}],\"table\":[{\"cells\":{\"fill\":{\"color\":\"#EBF0F8\"},\"line\":{\"color\":\"white\"}},\"header\":{\"fill\":{\"color\":\"#C8D4E3\"},\"line\":{\"color\":\"white\"}},\"type\":\"table\"}],\"barpolar\":[{\"marker\":{\"line\":{\"color\":\"#E5ECF6\",\"width\":0.5},\"pattern\":{\"fillmode\":\"overlay\",\"size\":10,\"solidity\":0.2}},\"type\":\"barpolar\"}],\"pie\":[{\"automargin\":true,\"type\":\"pie\"}]},\"layout\":{\"autotypenumbers\":\"strict\",\"colorway\":[\"#636efa\",\"#EF553B\",\"#00cc96\",\"#ab63fa\",\"#FFA15A\",\"#19d3f3\",\"#FF6692\",\"#B6E880\",\"#FF97FF\",\"#FECB52\"],\"font\":{\"color\":\"#2a3f5f\"},\"hovermode\":\"closest\",\"hoverlabel\":{\"align\":\"left\"},\"paper_bgcolor\":\"white\",\"plot_bgcolor\":\"#E5ECF6\",\"polar\":{\"bgcolor\":\"#E5ECF6\",\"angularaxis\":{\"gridcolor\":\"white\",\"linecolor\":\"white\",\"ticks\":\"\"},\"radialaxis\":{\"gridcolor\":\"white\",\"linecolor\":\"white\",\"ticks\":\"\"}},\"ternary\":{\"bgcolor\":\"#E5ECF6\",\"aaxis\":{\"gridcolor\":\"white\",\"linecolor\":\"white\",\"ticks\":\"\"},\"baxis\":{\"gridcolor\":\"white\",\"linecolor\":\"white\",\"ticks\":\"\"},\"caxis\":{\"gridcolor\":\"white\",\"linecolor\":\"white\",\"ticks\":\"\"}},\"coloraxis\":{\"colorbar\":{\"outlinewidth\":0,\"ticks\":\"\"}},\"colorscale\":{\"sequential\":[[0.0,\"#0d0887\"],[0.1111111111111111,\"#46039f\"],[0.2222222222222222,\"#7201a8\"],[0.3333333333333333,\"#9c179e\"],[0.4444444444444444,\"#bd3786\"],[0.5555555555555556,\"#d8576b\"],[0.6666666666666666,\"#ed7953\"],[0.7777777777777778,\"#fb9f3a\"],[0.8888888888888888,\"#fdca26\"],[1.0,\"#f0f921\"]],\"sequentialminus\":[[0.0,\"#0d0887\"],[0.1111111111111111,\"#46039f\"],[0.2222222222222222,\"#7201a8\"],[0.3333333333333333,\"#9c179e\"],[0.4444444444444444,\"#bd3786\"],[0.5555555555555556,\"#d8576b\"],[0.6666666666666666,\"#ed7953\"],[0.7777777777777778,\"#fb9f3a\"],[0.8888888888888888,\"#fdca26\"],[1.0,\"#f0f921\"]],\"diverging\":[[0,\"#8e0152\"],[0.1,\"#c51b7d\"],[0.2,\"#de77ae\"],[0.3,\"#f1b6da\"],[0.4,\"#fde0ef\"],[0.5,\"#f7f7f7\"],[0.6,\"#e6f5d0\"],[0.7,\"#b8e186\"],[0.8,\"#7fbc41\"],[0.9,\"#4d9221\"],[1,\"#276419\"]]},\"xaxis\":{\"gridcolor\":\"white\",\"linecolor\":\"white\",\"ticks\":\"\",\"title\":{\"standoff\":15},\"zerolinecolor\":\"white\",\"automargin\":true,\"zerolinewidth\":2},\"yaxis\":{\"gridcolor\":\"white\",\"linecolor\":\"white\",\"ticks\":\"\",\"title\":{\"standoff\":15},\"zerolinecolor\":\"white\",\"automargin\":true,\"zerolinewidth\":2},\"scene\":{\"xaxis\":{\"backgroundcolor\":\"#E5ECF6\",\"gridcolor\":\"white\",\"linecolor\":\"white\",\"showbackground\":true,\"ticks\":\"\",\"zerolinecolor\":\"white\",\"gridwidth\":2},\"yaxis\":{\"backgroundcolor\":\"#E5ECF6\",\"gridcolor\":\"white\",\"linecolor\":\"white\",\"showbackground\":true,\"ticks\":\"\",\"zerolinecolor\":\"white\",\"gridwidth\":2},\"zaxis\":{\"backgroundcolor\":\"#E5ECF6\",\"gridcolor\":\"white\",\"linecolor\":\"white\",\"showbackground\":true,\"ticks\":\"\",\"zerolinecolor\":\"white\",\"gridwidth\":2}},\"shapedefaults\":{\"line\":{\"color\":\"#2a3f5f\"}},\"annotationdefaults\":{\"arrowcolor\":\"#2a3f5f\",\"arrowhead\":0,\"arrowwidth\":1},\"geo\":{\"bgcolor\":\"white\",\"landcolor\":\"#E5ECF6\",\"subunitcolor\":\"white\",\"showland\":true,\"showlakes\":true,\"lakecolor\":\"white\"},\"title\":{\"x\":0.05},\"mapbox\":{\"style\":\"light\"}}},\"legend\":{\"tracegroupgap\":0,\"orientation\":\"v\",\"yanchor\":\"top\",\"y\":0.5,\"xanchor\":\"left\",\"x\":1.05,\"title\":{\"text\":\"target\"}},\"title\":{\"text\":\"Distribution of Classes in death\",\"font\":{\"size\":16},\"x\":0.45,\"xanchor\":\"center\",\"y\":0.95,\"yanchor\":\"top\"},\"piecolorway\":[\"#a3416c\",\"#ebc898\"],\"margin\":{\"t\":50,\"b\":0,\"l\":0,\"r\":0},\"width\":500,\"height\":350},                        {\"responsive\": true}                    ).then(function(){\n",
              "                            \n",
              "var gd = document.getElementById('972b1172-faff-4a12-aca3-85e90d4989fb');\n",
              "var x = new MutationObserver(function (mutations, observer) {{\n",
              "        var display = window.getComputedStyle(gd).display;\n",
              "        if (!display || display === 'none') {{\n",
              "            console.log([gd, 'removed!']);\n",
              "            Plotly.purge(gd);\n",
              "            observer.disconnect();\n",
              "        }}\n",
              "}});\n",
              "\n",
              "// Listen for the removal of the full notebook cells\n",
              "var notebookContainer = gd.closest('#notebook-container');\n",
              "if (notebookContainer) {{\n",
              "    x.observe(notebookContainer, {childList: true});\n",
              "}}\n",
              "\n",
              "// Listen for the clearing of the current output cell\n",
              "var outputEl = gd.closest('.output');\n",
              "if (outputEl) {{\n",
              "    x.observe(outputEl, {childList: true});\n",
              "}}\n",
              "\n",
              "                        })                };                            </script>        </div>\n",
              "</body>\n",
              "</html>"
            ]
          },
          "metadata": {}
        }
      ]
    },
    {
      "cell_type": "markdown",
      "source": [
        "Split Data into Training and Testing\n",
        "\n",
        "---\n",
        "\n"
      ],
      "metadata": {
        "id": "eGAQ9svCTt-C"
      }
    },
    {
      "cell_type": "code",
      "source": [
        "# Randomly sample 70% of the data for training\n",
        "train_data = data.sample(frac = .7, random_state=10)\n",
        "\n",
        "# Use the remaining 30% for testing\n",
        "test_data = data.drop(train_data.index)\n",
        "\n",
        "# Check the mean of the 'hospital_death' column in both training and testing data\n",
        "print('train', train_data['hospital_death'].mean())\n",
        "print('test', test_data['hospital_death'].mean())"
      ],
      "metadata": {
        "colab": {
          "base_uri": "https://localhost:8080/"
        },
        "id": "WjfWWRvkR3MC",
        "outputId": "1d63acac-b467-4f29-fd05-ad3ffefe10b9"
      },
      "execution_count": 4,
      "outputs": [
        {
          "output_type": "stream",
          "name": "stdout",
          "text": [
            "train 0.08613282928086606\n",
            "test 0.08089414595028067\n"
          ]
        }
      ]
    },
    {
      "cell_type": "code",
      "source": [
        "# Data Preparation\n",
        "\n",
        "# Extract the 'hospital_death' column as the target variable for training and testing\n",
        "Y_train = train_data['hospital_death'].to_numpy()\n",
        "Y_test = test_data['hospital_death'].to_numpy()\n",
        "\n",
        "# Extract the features (excluding 'hospital_death') for training and testing\n",
        "X_train = train_data.drop('hospital_death', axis=1).to_numpy()\n",
        "X_test = test_data.drop('hospital_death', axis=1).to_numpy()"
      ],
      "metadata": {
        "id": "cSi_CkAXSKIW"
      },
      "execution_count": 5,
      "outputs": []
    },
    {
      "cell_type": "markdown",
      "source": [
        "Normalize Data\n",
        "\n",
        "---\n",
        "\n"
      ],
      "metadata": {
        "id": "V887j0OWT9pF"
      }
    },
    {
      "cell_type": "code",
      "source": [
        "# Standardize the features to have zero mean and unit variance\n",
        "sc = StandardScaler()\n",
        "X_train = sc.fit_transform(X_train)\n",
        "X_test = sc.transform(X_test)"
      ],
      "metadata": {
        "id": "ntKh2s3lI-aB"
      },
      "execution_count": 6,
      "outputs": []
    },
    {
      "cell_type": "markdown",
      "source": [
        "Oversampling\n",
        "\n",
        "---\n",
        "\n"
      ],
      "metadata": {
        "id": "cNv-6QuLb0Md"
      }
    },
    {
      "cell_type": "code",
      "source": [
        "# Oversampling using SMOTE\n",
        "from imblearn.over_sampling import SMOTENC\n",
        "\n",
        "smote_nc = SMOTENC(categorical_features=[0,2], random_state=42)\n",
        "X_train_resampled, Y_train_resampled = smote_nc.fit_resample(X_train, Y_train)\n",
        "\n",
        "print(\"After OverSampling, counts of label '1': {}\".format(sum(Y_train_resampled == 1)))\n",
        "print(\"After OverSampling, counts of label '0': {}\".format(sum(Y_train_resampled == 0)))"
      ],
      "metadata": {
        "id": "oXz0-VBza17i",
        "outputId": "f9e47b1a-3733-4a08-fcbd-a35d86a68684",
        "colab": {
          "base_uri": "https://localhost:8080/"
        }
      },
      "execution_count": 7,
      "outputs": [
        {
          "output_type": "stream",
          "name": "stdout",
          "text": [
            "After OverSampling, counts of label '1': 21273\n",
            "After OverSampling, counts of label '0': 21273\n"
          ]
        }
      ]
    },
    {
      "cell_type": "markdown",
      "source": [
        "Testing with logistic Regression\n",
        "\n",
        "---\n",
        "\n"
      ],
      "metadata": {
        "id": "wxRz4N5OyEvO"
      }
    },
    {
      "cell_type": "code",
      "source": [
        "from sklearn.model_selection import train_test_split, KFold, cross_val_score\n",
        "from sklearn.model_selection import GridSearchCV\n",
        "from sklearn.linear_model import LogisticRegression\n",
        "from sklearn.metrics import confusion_matrix, classification_report, roc_auc_score, roc_curve\n",
        "from sklearn.metrics import RocCurveDisplay, roc_curve, accuracy_score, confusion_matrix, roc_auc_score, classification_report\n",
        "from sklearn.metrics import RocCurveDisplay, auc, accuracy_score, precision_score, recall_score, f1_score\n",
        "\n",
        "# Define a function to compute various scores for model evaluation\n",
        "def get_scores(Y_pred, Y):\n",
        "    # Calculate confusion matrix, classification report, ROC AUC, accuracy, recall, precision, fi\n",
        "    conf_matrix = confusion_matrix(Y_pred, Y)\n",
        "    auc = roc_auc_score(Y_pred, Y)\n",
        "    acc = accuracy_score(Y_pred, Y)\n",
        "    precision = precision_score(Y_pred, Y)\n",
        "    recall = recall_score(Y_pred, Y)\n",
        "    f1 = f1_score(Y_pred, Y)\n",
        "    class_report = classification_report(Y_pred, Y)\n",
        "\n",
        "    # Return the computed scores\n",
        "    return conf_matrix, auc, acc, precision, recall, f1, class_report\n",
        "\n",
        "# Define a function to print the computed scores\n",
        "def print_scores(conf_matrix, auc, acc, precision, recall, f1, class_report):\n",
        "    print(\"Confusion Matrix:\")\n",
        "    print(conf_matrix)\n",
        "    print('AUC : ', auc)\n",
        "    print('Accuracy : ', acc)\n",
        "    print(\"\\nPrecision:\")\n",
        "    print(precision)\n",
        "    print(\"\\nRecall:\")\n",
        "    print(recall)\n",
        "    print(\"\\nf1-score:\")\n",
        "    print(f1)\n",
        "    print(\"\\nClassification Report:\")\n",
        "    print(class_report)\n"
      ],
      "metadata": {
        "id": "vgMA-RYcyUEs"
      },
      "execution_count": null,
      "outputs": []
    },
    {
      "cell_type": "code",
      "source": [
        "# 1. Training logistic regression model\n",
        "log_reg = LogisticRegression(penalty= 'none', C=0.0001, solver='lbfgs')\n",
        "log_reg.fit(X_train_resampled, Y_train_resampled)\n",
        "\n",
        "# 3.  Use the model to make predictions on the testing and training data\n",
        "y_pred_test = log_reg.predict(X_test)\n",
        "y_pred_train = log_reg.predict(X_train_resampled)\n",
        "\n",
        "# 4.  Evaluate the model\n",
        "conf_matrix_test, auc_test, acc_test, precision_test, recall_test, f1_test, class_report_test = get_scores(y_pred_test, Y_test)\n",
        "conf_matrix_train, auc_train, acc_train, precision_train, recall_train, f1_train, class_report_train = get_scores(y_pred_train, Y_train_resampled)\n",
        "\n",
        "# Print scores and evaluation metrics for the training set\n",
        "print('======== Training Set ==========')\n",
        "print_scores(conf_matrix_train, auc_train, acc_train, precision_train, recall_train, f1_train, class_report_train)\n",
        "\n",
        "# Print scores and evaluation metrics for the test set\n",
        "print('======== Test Set ==========')\n",
        "\n",
        "print_scores(conf_matrix_test, auc_test, acc_test, precision_test, recall_test, f1_test, class_report_test)\n"
      ],
      "metadata": {
        "id": "49fujBE2yHq7",
        "outputId": "d8b7e5b0-8c9d-44ad-c025-e6eb910b9bbd",
        "colab": {
          "base_uri": "https://localhost:8080/"
        }
      },
      "execution_count": null,
      "outputs": [
        {
          "output_type": "stream",
          "name": "stdout",
          "text": [
            "======== Training Set ==========\n",
            "Confusion Matrix:\n",
            "[[16768  5624]\n",
            " [ 4505 15649]]\n",
            "AUC :  0.7626550215005762\n",
            "Accuracy :  0.7619282658769332\n",
            "\n",
            "Precision:\n",
            "0.7356273210172519\n",
            "\n",
            "Recall:\n",
            "0.7764711719757864\n",
            "\n",
            "f1-score:\n",
            "0.7554976223236053\n",
            "\n",
            "Classification Report:\n",
            "              precision    recall  f1-score   support\n",
            "\n",
            "           0       0.79      0.75      0.77     22392\n",
            "           1       0.74      0.78      0.76     20154\n",
            "\n",
            "    accuracy                           0.76     42546\n",
            "   macro avg       0.76      0.76      0.76     42546\n",
            "weighted avg       0.76      0.76      0.76     42546\n",
            "\n",
            "======== Test Set ==========\n",
            "Confusion Matrix:\n",
            "[[7190  207]\n",
            " [1979  600]]\n",
            "AUC :  0.6023319976664926\n",
            "Accuracy :  0.7808740978348035\n",
            "\n",
            "Precision:\n",
            "0.7434944237918215\n",
            "\n",
            "Recall:\n",
            "0.23264831329972857\n",
            "\n",
            "f1-score:\n",
            "0.35440047253396334\n",
            "\n",
            "Classification Report:\n",
            "              precision    recall  f1-score   support\n",
            "\n",
            "           0       0.78      0.97      0.87      7397\n",
            "           1       0.74      0.23      0.35      2579\n",
            "\n",
            "    accuracy                           0.78      9976\n",
            "   macro avg       0.76      0.60      0.61      9976\n",
            "weighted avg       0.77      0.78      0.74      9976\n",
            "\n"
          ]
        }
      ]
    },
    {
      "cell_type": "code",
      "source": [
        "# Plot the ROC curve for the test set\n",
        "fpr, tpr, thresholds = roc_curve(y_pred_test, Y_test)\n",
        "roc_auc = auc(fpr, tpr)\n",
        "display = RocCurveDisplay(fpr=fpr, tpr=tpr, roc_auc=roc_auc, estimator_name='Logistic Regression')\n",
        "display.plot()"
      ],
      "metadata": {
        "id": "x5iu7AscyY9F",
        "outputId": "1ec719f8-12e7-4bb4-d9df-b2f9b3e6fbd2",
        "colab": {
          "base_uri": "https://localhost:8080/",
          "height": 467
        }
      },
      "execution_count": null,
      "outputs": [
        {
          "output_type": "execute_result",
          "data": {
            "text/plain": [
              "<sklearn.metrics._plot.roc_curve.RocCurveDisplay at 0x7ca4dc1b5300>"
            ]
          },
          "metadata": {},
          "execution_count": 102
        },
        {
          "output_type": "display_data",
          "data": {
            "text/plain": [
              "<Figure size 640x480 with 1 Axes>"
            ],
            "image/png": "[encoded data removed]"
          },
          "metadata": {}
        }
      ]
    },
    {
      "cell_type": "markdown",
      "source": [
        "Looks like the accuracy of the test score is 0.6"
      ],
      "metadata": {
        "id": "rmyLAFW4z155"
      }
    },
    {
      "cell_type": "markdown",
      "source": [
        "Initializing Neural Network Parameters in PyTorch"
      ],
      "metadata": {
        "id": "TgMhfJFZTHeG"
      }
    },
    {
      "cell_type": "code",
      "source": [
        "# Define the number of neurons in the first and second hidden layers\n",
        "hidden_units_layer_1 = 5\n",
        "hidden_units_layer_2 = 5\n",
        "\n",
        "# FIRST LAYER: Define weights and biases for the first layer\n",
        "W1 = t.randn((19, hidden_units_layer_1), requires_grad=True)\n",
        "B1 = t.zeros((1, hidden_units_layer_1), requires_grad=True)\n",
        "\n",
        "# SECOND LAYER: Define weights and biases for the second layer\n",
        "W2 = t.randn((hidden_units_layer_1, hidden_units_layer_2), requires_grad=True)\n",
        "B2 = t.zeros((1, hidden_units_layer_2), requires_grad=True)\n",
        "\n",
        "# THIRD LAYER: Define weights and biases for the output layer\n",
        "W3 = t.randn((hidden_units_layer_2, 1), requires_grad=True)\n",
        "B3 = t.zeros((1, 1), requires_grad=True)"
      ],
      "metadata": {
        "id": "vDb3WfelTJ7k"
      },
      "execution_count": null,
      "outputs": []
    },
    {
      "cell_type": "markdown",
      "source": [
        "Implementing the Forward Pass of a Neural Network in PyTorch"
      ],
      "metadata": {
        "id": "YI3FFMV_US6k"
      }
    },
    {
      "cell_type": "code",
      "source": [
        "# Define the forward pass of the neural network\n",
        "def forward(input):\n",
        "    # First hidden layer with ReLU activation\n",
        "    out = relu(input @ W1 + B1)\n",
        "\n",
        "    # Second hidden layer with ReLU activation\n",
        "    out = relu(out @ W2 + B2)\n",
        "\n",
        "    # Output layer with sigmoid activation (since it's a binary classification problem)\n",
        "    out = sigmoid(out @ W3 + B3)\n",
        "    return out"
      ],
      "metadata": {
        "id": "3s0gwvDtUThN"
      },
      "execution_count": null,
      "outputs": []
    },
    {
      "cell_type": "markdown",
      "source": [
        "Preparing Data and Training Utilities for Neural Network Training in PyTorch"
      ],
      "metadata": {
        "id": "3ykVNEOXZg6z"
      }
    },
    {
      "cell_type": "code",
      "source": [
        "# Convert the training data to PyTorch tensors\n",
        "X = t.Tensor(X_train_resampled).type(t.float32)\n",
        "Y = t.Tensor(Y_train_resampled).type(t.float32)\n",
        "\n",
        "# Create a dataset from tensors to be used with DataLoader\n",
        "train_dataset = TensorDataset(X, Y)\n",
        "\n",
        "# Define training hyperparameters\n",
        "epochs = 2000\n",
        "learning_rate = 0.01\n",
        "batch_size = 50\n",
        "\n",
        "# DataLoader provides batches of data for training\n",
        "train_data_loader = DataLoader(train_dataset, batch_size=batch_size, shuffle=True)\n",
        "\n",
        "# Define the optimizer (Adam) and include all weights and biases\n",
        "optimizer = Adam([W1, B1, W2, B2, W3, B3], lr=learning_rate)\n",
        "\n",
        "# Define the loss function (Binary Cross-Entropy Loss)\n",
        "loss_fn = t.nn.BCELoss()"
      ],
      "metadata": {
        "id": "ceuWzhjLZjJe"
      },
      "execution_count": null,
      "outputs": []
    },
    {
      "cell_type": "markdown",
      "source": [
        "Training Loop for a Neural Network in PyTorch"
      ],
      "metadata": {
        "id": "yzklLKidaqFO"
      }
    },
    {
      "cell_type": "code",
      "source": [
        "train_loss_list = []\n",
        "\n",
        "# Train the model for a specified number of epochs\n",
        "for epoch in range(epochs):\n",
        "    # Reduce the learning rate every 500 epochs\n",
        "    if epoch % 500 == 0:\n",
        "        learning_rate *= .9\n",
        "\n",
        "    per_epoch_loss_list = []\n",
        "\n",
        "    # Iterate over all batches of data\n",
        "    for batch_idx, (X, Y) in enumerate(train_data_loader):\n",
        "        # Forward pass: Compute predictions\n",
        "        probs = forward(X)\n",
        "\n",
        "        # Compute the loss\n",
        "        loss = loss_fn(probs.view(-1), Y)\n",
        "\n",
        "        # Backward pass: Compute gradient and update weights\n",
        "        optimizer.zero_grad()\n",
        "        loss.backward()\n",
        "        optimizer.step()\n",
        "\n",
        "        # Record the loss for this batch\n",
        "        per_epoch_loss_list.append(loss.item())\n",
        "        print(f'Batch {batch_idx} of {len(train_data_loader)} complete')"
      ],
      "metadata": {
        "id": "co1v6ReTasib"
      },
      "execution_count": null,
      "outputs": []
    },
    {
      "cell_type": "markdown",
      "source": [
        "Visualizing Training Loss Over Epochs with Matplotlib in Python"
      ],
      "metadata": {
        "id": "pYolGw81Jen6"
      }
    },
    {
      "cell_type": "code",
      "source": [
        "# Plot the training loss over epochs\n",
        "plt.plot([i for i in range(len(train_loss_list))], train_loss_list)\n",
        "plt.xlabel('epochs')\n",
        "plt.ylabel('loss')"
      ],
      "metadata": {
        "id": "3aKAGfw8Jdji",
        "outputId": "33feb6aa-454c-4fcf-c4ee-d9a17f1550c1",
        "colab": {
          "base_uri": "https://localhost:8080/",
          "height": 467
        }
      },
      "execution_count": null,
      "outputs": [
        {
          "output_type": "execute_result",
          "data": {
            "text/plain": [
              "Text(0, 0.5, 'loss')"
            ]
          },
          "metadata": {},
          "execution_count": 65
        },
        {
          "output_type": "display_data",
          "data": {
            "text/plain": [
              "<Figure size 640x480 with 1 Axes>"
            ],
            "image/png": "[encoded data removed]"
          },
          "metadata": {}
        }
      ]
    },
    {
      "cell_type": "markdown",
      "source": [],
      "metadata": {
        "id": "Pt4p2BrS7Nh4"
      }
    },
    {
      "cell_type": "markdown",
      "source": [
        "Evaluating Model Performance on Validation Data"
      ],
      "metadata": {
        "id": "aO6XXR8FJh_p"
      }
    },
    {
      "cell_type": "code",
      "source": [
        "# Evaluate Model Performance on Validation Data\n",
        "\n",
        "# Disable gradient calculations for evaluation using t.no_grad()\n",
        "with t.no_grad():\n",
        "    # Prepare the validation data\n",
        "    X = t.Tensor(X_test).type(t.float32)  # Convert validation features to a PyTorch tensor\n",
        "    Y = t.Tensor(Y_test).type(t.float32)  # Convert validation labels to a PyTorch tensor\n",
        "\n",
        "    # Calculate predictions on the validation data\n",
        "    probs = forward(X)  # Pass validation data through the trained model\n",
        "    loss = loss_fn(probs.view(-1), Y)  # Compute the loss between predictions and actual labels\n",
        "\n",
        "    # Print the validation loss\n",
        "    print(loss.item())\n",
        "\n",
        "    # Now, evaluate the model on the training data\n",
        "    X = t.Tensor(X_train_resampled).type(t.float32)  # Convert training features to a PyTorch tensor\n",
        "    Y = t.Tensor(Y_train_resampled).type(t.float32)  # Convert training labels to a PyTorch tensor\n",
        "\n",
        "    # Calculate predictions on the training data\n",
        "    probs = forward(X)  # Pass training data through the trained model\n",
        "    loss = loss_fn(probs.view(-1), Y)  # Compute the loss between predictions and actual labels\n",
        "\n",
        "    # Print the training loss\n",
        "    print(loss.item())"
      ],
      "metadata": {
        "id": "o2WFEy3jJjXq",
        "outputId": "1159fc62-00d6-43ab-dc00-548e124fcbef",
        "colab": {
          "base_uri": "https://localhost:8080/",
          "height": 246
        }
      },
      "execution_count": 8,
      "outputs": [
        {
          "output_type": "error",
          "ename": "NameError",
          "evalue": "ignored",
          "traceback": [
            "\u001b[0;31m---------------------------------------------------------------------------\u001b[0m",
            "\u001b[0;31mNameError\u001b[0m                                 Traceback (most recent call last)",
            "\u001b[0;32m<ipython-input-8-0589040a7ad2>\u001b[0m in \u001b[0;36m<cell line: 4>\u001b[0;34m()\u001b[0m\n\u001b[1;32m      8\u001b[0m \u001b[0;34m\u001b[0m\u001b[0m\n\u001b[1;32m      9\u001b[0m     \u001b[0;31m# Calculate predictions on the validation data\u001b[0m\u001b[0;34m\u001b[0m\u001b[0;34m\u001b[0m\u001b[0m\n\u001b[0;32m---> 10\u001b[0;31m     \u001b[0mprobs\u001b[0m \u001b[0;34m=\u001b[0m \u001b[0mforward\u001b[0m\u001b[0;34m(\u001b[0m\u001b[0mX\u001b[0m\u001b[0;34m)\u001b[0m  \u001b[0;31m# Pass validation data through the trained model\u001b[0m\u001b[0;34m\u001b[0m\u001b[0;34m\u001b[0m\u001b[0m\n\u001b[0m\u001b[1;32m     11\u001b[0m     \u001b[0mloss\u001b[0m \u001b[0;34m=\u001b[0m \u001b[0mloss_fn\u001b[0m\u001b[0;34m(\u001b[0m\u001b[0mprobs\u001b[0m\u001b[0;34m.\u001b[0m\u001b[0mview\u001b[0m\u001b[0;34m(\u001b[0m\u001b[0;34m-\u001b[0m\u001b[0;36m1\u001b[0m\u001b[0;34m)\u001b[0m\u001b[0;34m,\u001b[0m \u001b[0mY\u001b[0m\u001b[0;34m)\u001b[0m  \u001b[0;31m# Compute the loss between predictions and actual labels\u001b[0m\u001b[0;34m\u001b[0m\u001b[0;34m\u001b[0m\u001b[0m\n\u001b[1;32m     12\u001b[0m \u001b[0;34m\u001b[0m\u001b[0m\n",
            "\u001b[0;31mNameError\u001b[0m: name 'forward' is not defined"
          ]
        }
      ]
    },
    {
      "cell_type": "markdown",
      "source": [
        "Testing model has higher loss function compared to training\n",
        "- regularization will help"
      ],
      "metadata": {
        "id": "U1rqMnh6V77c"
      }
    },
    {
      "cell_type": "markdown",
      "source": [
        "\n",
        "Regularized Training of a Neural Network in PyTorch"
      ],
      "metadata": {
        "id": "kZHuNTf2Jl65"
      }
    },
    {
      "cell_type": "code",
      "source": [
        "import torch as t\n",
        "import torch.nn as nn\n",
        "from torch.optim import Adam\n",
        "from torch.utils.data import TensorDataset, DataLoader\n",
        "import matplotlib.pyplot as plt\n",
        "from torch.nn import BCELoss"
      ],
      "metadata": {
        "id": "bZUbibH5pNum"
      },
      "execution_count": 9,
      "outputs": []
    },
    {
      "cell_type": "code",
      "source": [
        "# Regularization\n",
        "\n",
        "# Define hyperparameters\n",
        "number_of_input_features = 19\n",
        "number_of_hidden_units = 5\n",
        "epochs = 150\n",
        "learning_rate = 0.01\n",
        "batch_size = 50\n",
        "landa = 0.01  # Regularization term (lambda)\n",
        "dropout_probablity = 0.6  # Probability of dropping out a neuron in dropout layer"
      ],
      "metadata": {
        "id": "cUXcLLCRpRg2"
      },
      "execution_count": 10,
      "outputs": []
    },
    {
      "cell_type": "code",
      "source": [
        "# Prepare the data\n",
        "X_train_tensor = t.Tensor(X_train_resampled).type(t.float32)\n",
        "Y_train_tensor = t.Tensor(Y_train_resampled).type(t.float32)\n",
        "\n",
        "X_test_tensor = t.Tensor(X_test).type(t.float32)\n",
        "Y_test_tensor = t.Tensor(Y_test).type(t.float32)\n",
        "\n",
        "train_dataset = TensorDataset(X_train_tensor, Y_train_tensor)\n",
        "train_data_loader = DataLoader(train_dataset, batch_size=batch_size, shuffle=True)"
      ],
      "metadata": {
        "id": "RSh9ughfpbDM"
      },
      "execution_count": 11,
      "outputs": []
    },
    {
      "cell_type": "code",
      "source": [
        "# Define the neural network model with regularization\n",
        "model = nn.Sequential(\n",
        "    nn.Linear(number_of_input_features, number_of_hidden_units),\n",
        "    nn.ReLU(),\n",
        "    Dropout(dropout_probablity),\n",
        "    nn.Linear(number_of_hidden_units, 1),\n",
        "    nn.Sigmoid()  # Assuming binary classification for the output layer\n",
        ")\n",
        "\n",
        "# Define the optimizer\n",
        "optimizer = Adam(model.parameters(), lr=learning_rate)\n",
        "\n",
        "# Define the loss function with Binary Cross-Entropy Loss\n",
        "loss_fn = nn.BCELoss()\n",
        "\n",
        "# Lists to store training accuracy, validation accuracy, and training loss over epochs\n",
        "train_accuracy_list = []\n",
        "validation_accuracy_list = []\n",
        "train_loss_list = []\n",
        "\n",
        "for epoch in range(epochs):\n",
        "    if epoch % 500 == 0:\n",
        "        learning_rate *= 0.9  # Learning rate scheduling\n",
        "\n",
        "    per_epoch_loss_list = []\n",
        "\n",
        "    for batch_idx, (X, Y) in enumerate(train_data_loader):\n",
        "        # Forward pass: Compute predictions\n",
        "        probs = model(X)\n",
        "\n",
        "        # Adding regularization term for all parameters in the model\n",
        "        l2_term = sum([(w ** 2).sum() for w in model.parameters()])\n",
        "\n",
        "        # New loss is the old loss + regularization term\n",
        "        loss = loss_fn(probs.view(-1), Y) + landa * l2_term\n",
        "\n",
        "        per_epoch_loss_list.append(loss.item())\n",
        "\n",
        "        # Backward pass: Compute gradient and update weights\n",
        "        optimizer.zero_grad()\n",
        "        loss.backward()\n",
        "        optimizer.step()\n",
        "\n",
        "    # Evaluate the model on training and validation data\n",
        "    with t.no_grad():\n",
        "        # Set the model in eval mode; some layers use this for certain calculations during training\n",
        "        model.eval()\n",
        "\n",
        "        # Calculate accuracy on train data\n",
        "        probs = model(X_train_tensor)\n",
        "        prediction = (probs >= 0.5).type(t.LongTensor).view(-1)\n",
        "        train_accuracy = (prediction == Y_train_tensor).type(t.float32).mean().item()\n",
        "\n",
        "        # Calculate accuracy on validation data\n",
        "        probs = model(X_test_tensor)\n",
        "        prediction = (probs >= 0.5).type(t.LongTensor).view(-1)\n",
        "        validation_accuracy = (prediction == Y_test_tensor).type(t.float32).mean().item()\n",
        "\n",
        "        # Print accuracy for the current epoch\n",
        "        print(f'Epoch {epoch}/{epochs} ---> Train Accuracy: {train_accuracy}, Validation Accuracy: {validation_accuracy}')\n",
        "\n",
        "        # Set the model back to train mode\n",
        "        model.train()\n",
        "\n",
        "        # Append accuracy values to lists\n",
        "        train_accuracy_list.append(train_accuracy)\n",
        "        validation_accuracy_list.append(validation_accuracy)\n",
        "\n",
        "    # Calculate and append the average loss for the epoch\n",
        "    train_loss_list.append(sum(per_epoch_loss_list) / len(per_epoch_loss_list))"
      ],
      "metadata": {
        "id": "KnF6U2wSJm8-",
        "outputId": "33107597-8efd-4468-b005-521c7383c2da",
        "colab": {
          "base_uri": "https://localhost:8080/"
        }
      },
      "execution_count": 13,
      "outputs": [
        {
          "output_type": "stream",
          "name": "stdout",
          "text": [
            "Epoch 0/150 ---> Train Accuracy: 0.7569689154624939, Validation Accuracy: 0.7835806012153625\n",
            "Epoch 1/150 ---> Train Accuracy: 0.7605650424957275, Validation Accuracy: 0.7850841879844666\n",
            "Epoch 2/150 ---> Train Accuracy: 0.749424159526825, Validation Accuracy: 0.7978147268295288\n",
            "Epoch 3/150 ---> Train Accuracy: 0.7505523562431335, Validation Accuracy: 0.7905974388122559\n",
            "Epoch 4/150 ---> Train Accuracy: 0.75189208984375, Validation Accuracy: 0.8109462857246399\n",
            "Epoch 5/150 ---> Train Accuracy: 0.7619752883911133, Validation Accuracy: 0.7696471810340881\n",
            "Epoch 6/150 ---> Train Accuracy: 0.7580031156539917, Validation Accuracy: 0.7968123555183411\n",
            "Epoch 7/150 ---> Train Accuracy: 0.7610586285591125, Validation Accuracy: 0.762229323387146\n",
            "Epoch 8/150 ---> Train Accuracy: 0.7558407187461853, Validation Accuracy: 0.8029270172119141\n",
            "Epoch 9/150 ---> Train Accuracy: 0.7609410881996155, Validation Accuracy: 0.7671411633491516\n",
            "Epoch 10/150 ---> Train Accuracy: 0.7602829933166504, Validation Accuracy: 0.7643343806266785\n",
            "Epoch 11/150 ---> Train Accuracy: 0.7596248984336853, Validation Accuracy: 0.8011226654052734\n",
            "Epoch 12/150 ---> Train Accuracy: 0.7611761093139648, Validation Accuracy: 0.755713701248169\n",
            "Epoch 13/150 ---> Train Accuracy: 0.7559582591056824, Validation Accuracy: 0.7919005751609802\n",
            "Epoch 14/150 ---> Train Accuracy: 0.761458158493042, Validation Accuracy: 0.7572173476219177\n",
            "Epoch 15/150 ---> Train Accuracy: 0.7624218463897705, Validation Accuracy: 0.7751603722572327\n",
            "Epoch 16/150 ---> Train Accuracy: 0.7566633820533752, Validation Accuracy: 0.791399359703064\n",
            "Epoch 17/150 ---> Train Accuracy: 0.7608705759048462, Validation Accuracy: 0.7517040967941284\n",
            "Epoch 18/150 ---> Train Accuracy: 0.7564753293991089, Validation Accuracy: 0.8055332899093628\n",
            "Epoch 19/150 ---> Train Accuracy: 0.7597423791885376, Validation Accuracy: 0.7952085137367249\n",
            "Epoch 20/150 ---> Train Accuracy: 0.7565458416938782, Validation Accuracy: 0.7981154918670654\n",
            "Epoch 21/150 ---> Train Accuracy: 0.7532787919044495, Validation Accuracy: 0.8077386021614075\n",
            "Epoch 22/150 ---> Train Accuracy: 0.7571099400520325, Validation Accuracy: 0.7994186282157898\n",
            "Epoch 23/150 ---> Train Accuracy: 0.7604710459709167, Validation Accuracy: 0.7809743285179138\n",
            "Epoch 24/150 ---> Train Accuracy: 0.7566633820533752, Validation Accuracy: 0.7991178631782532\n",
            "Epoch 25/150 ---> Train Accuracy: 0.7503877878189087, Validation Accuracy: 0.8085405230522156\n",
            "Epoch 26/150 ---> Train Accuracy: 0.7608236074447632, Validation Accuracy: 0.7467923164367676\n",
            "Epoch 27/150 ---> Train Accuracy: 0.7525736689567566, Validation Accuracy: 0.7952085137367249\n",
            "Epoch 28/150 ---> Train Accuracy: 0.7579090595245361, Validation Accuracy: 0.7777666449546814\n",
            "Epoch 29/150 ---> Train Accuracy: 0.7541484236717224, Validation Accuracy: 0.8095428943634033\n",
            "Epoch 30/150 ---> Train Accuracy: 0.7585906982421875, Validation Accuracy: 0.7704491019248962\n",
            "Epoch 31/150 ---> Train Accuracy: 0.753419816493988, Validation Accuracy: 0.8057337403297424\n",
            "Epoch 32/150 ---> Train Accuracy: 0.7557937502861023, Validation Accuracy: 0.7912991046905518\n",
            "Epoch 33/150 ---> Train Accuracy: 0.7611291408538818, Validation Accuracy: 0.7507016658782959\n",
            "Epoch 34/150 ---> Train Accuracy: 0.7485309839248657, Validation Accuracy: 0.8046311140060425\n",
            "Epoch 35/150 ---> Train Accuracy: 0.7580500841140747, Validation Accuracy: 0.800621509552002\n",
            "Epoch 36/150 ---> Train Accuracy: 0.7550181150436401, Validation Accuracy: 0.7945067882537842\n",
            "Epoch 37/150 ---> Train Accuracy: 0.7516335248947144, Validation Accuracy: 0.7890938520431519\n",
            "Epoch 38/150 ---> Train Accuracy: 0.7581441402435303, Validation Accuracy: 0.7952085137367249\n",
            "Epoch 39/150 ---> Train Accuracy: 0.753795862197876, Validation Accuracy: 0.7996190786361694\n",
            "Epoch 40/150 ---> Train Accuracy: 0.7512339353561401, Validation Accuracy: 0.8044306039810181\n",
            "Epoch 41/150 ---> Train Accuracy: 0.7536078691482544, Validation Accuracy: 0.8065356612205505\n",
            "Epoch 42/150 ---> Train Accuracy: 0.7632914781570435, Validation Accuracy: 0.7641339302062988\n",
            "Epoch 43/150 ---> Train Accuracy: 0.7623748183250427, Validation Accuracy: 0.7722533941268921\n",
            "Epoch 44/150 ---> Train Accuracy: 0.7553001642227173, Validation Accuracy: 0.8102445602416992\n",
            "Epoch 45/150 ---> Train Accuracy: 0.7612466216087341, Validation Accuracy: 0.755012035369873\n",
            "Epoch 46/150 ---> Train Accuracy: 0.7560287714004517, Validation Accuracy: 0.7915998101234436\n",
            "Epoch 47/150 ---> Train Accuracy: 0.7594133615493774, Validation Accuracy: 0.7707498073577881\n",
            "Epoch 48/150 ---> Train Accuracy: 0.7588962316513062, Validation Accuracy: 0.791800320148468\n",
            "Epoch 49/150 ---> Train Accuracy: 0.7578620910644531, Validation Accuracy: 0.7814755439758301\n",
            "Epoch 50/150 ---> Train Accuracy: 0.7588257193565369, Validation Accuracy: 0.7835806012153625\n",
            "Epoch 51/150 ---> Train Accuracy: 0.7612231373786926, Validation Accuracy: 0.7698476314544678\n",
            "Epoch 52/150 ---> Train Accuracy: 0.7557467222213745, Validation Accuracy: 0.7973135709762573\n",
            "Epoch 53/150 ---> Train Accuracy: 0.7578620910644531, Validation Accuracy: 0.7478949427604675\n",
            "Epoch 54/150 ---> Train Accuracy: 0.7579560875892639, Validation Accuracy: 0.7972133159637451\n",
            "Epoch 55/150 ---> Train Accuracy: 0.7587552070617676, Validation Accuracy: 0.7854851484298706\n",
            "Epoch 56/150 ---> Train Accuracy: 0.7598834037780762, Validation Accuracy: 0.7722533941268921\n",
            "Epoch 57/150 ---> Train Accuracy: 0.7561463117599487, Validation Accuracy: 0.8073375821113586\n",
            "Epoch 58/150 ---> Train Accuracy: 0.7565223574638367, Validation Accuracy: 0.7915998101234436\n",
            "Epoch 59/150 ---> Train Accuracy: 0.7622573375701904, Validation Accuracy: 0.7728548645973206\n",
            "Epoch 60/150 ---> Train Accuracy: 0.7558407187461853, Validation Accuracy: 0.8016238808631897\n",
            "Epoch 61/150 ---> Train Accuracy: 0.7568044066429138, Validation Accuracy: 0.8014234304428101\n",
            "Epoch 62/150 ---> Train Accuracy: 0.7591547966003418, Validation Accuracy: 0.7891940474510193\n",
            "Epoch 63/150 ---> Train Accuracy: 0.761035144329071, Validation Accuracy: 0.7608259916305542\n",
            "Epoch 64/150 ---> Train Accuracy: 0.7591782808303833, Validation Accuracy: 0.7907978892326355\n",
            "Epoch 65/150 ---> Train Accuracy: 0.7595073580741882, Validation Accuracy: 0.8015236854553223\n",
            "Epoch 66/150 ---> Train Accuracy: 0.7548300623893738, Validation Accuracy: 0.8099438548088074\n",
            "Epoch 67/150 ---> Train Accuracy: 0.754783034324646, Validation Accuracy: 0.7660384774208069\n",
            "Epoch 68/150 ---> Train Accuracy: 0.7456635236740112, Validation Accuracy: 0.8153568506240845\n",
            "Epoch 69/150 ---> Train Accuracy: 0.7528087496757507, Validation Accuracy: 0.8044306039810181\n",
            "Epoch 70/150 ---> Train Accuracy: 0.756757378578186, Validation Accuracy: 0.7889935970306396\n",
            "Epoch 71/150 ---> Train Accuracy: 0.7613876461982727, Validation Accuracy: 0.7880914211273193\n",
            "Epoch 72/150 ---> Train Accuracy: 0.7572274804115295, Validation Accuracy: 0.771852433681488\n",
            "Epoch 73/150 ---> Train Accuracy: 0.758120596408844, Validation Accuracy: 0.7460905909538269\n",
            "Epoch 74/150 ---> Train Accuracy: 0.7511869668960571, Validation Accuracy: 0.8237770795822144\n",
            "Epoch 75/150 ---> Train Accuracy: 0.7554176449775696, Validation Accuracy: 0.7926022410392761\n",
            "Epoch 76/150 ---> Train Accuracy: 0.7598128914833069, Validation Accuracy: 0.780673623085022\n",
            "Epoch 77/150 ---> Train Accuracy: 0.7561463117599487, Validation Accuracy: 0.7895950078964233\n",
            "Epoch 78/150 ---> Train Accuracy: 0.7592958211898804, Validation Accuracy: 0.7812750339508057\n",
            "Epoch 79/150 ---> Train Accuracy: 0.7608941197395325, Validation Accuracy: 0.7813752889633179\n",
            "Epoch 80/150 ---> Train Accuracy: 0.7561463117599487, Validation Accuracy: 0.8024258017539978\n",
            "Epoch 81/150 ---> Train Accuracy: 0.7537723779678345, Validation Accuracy: 0.808239758014679\n",
            "Epoch 82/150 ---> Train Accuracy: 0.7564988732337952, Validation Accuracy: 0.7934041619300842\n",
            "Epoch 83/150 ---> Train Accuracy: 0.7604475021362305, Validation Accuracy: 0.7692462205886841\n",
            "Epoch 84/150 ---> Train Accuracy: 0.761082112789154, Validation Accuracy: 0.7637329697608948\n",
            "Epoch 85/150 ---> Train Accuracy: 0.7595308423042297, Validation Accuracy: 0.7396752238273621\n",
            "Epoch 86/150 ---> Train Accuracy: 0.7592018246650696, Validation Accuracy: 0.7621291279792786\n",
            "Epoch 87/150 ---> Train Accuracy: 0.759107768535614, Validation Accuracy: 0.7888933420181274\n",
            "Epoch 88/150 ---> Train Accuracy: 0.7546655535697937, Validation Accuracy: 0.8094426393508911\n",
            "Epoch 89/150 ---> Train Accuracy: 0.7354393005371094, Validation Accuracy: 0.8355051875114441\n",
            "Epoch 90/150 ---> Train Accuracy: 0.7565693855285645, Validation Accuracy: 0.7969126105308533\n",
            "Epoch 91/150 ---> Train Accuracy: 0.7588727474212646, Validation Accuracy: 0.7923015356063843\n",
            "Epoch 92/150 ---> Train Accuracy: 0.7602829933166504, Validation Accuracy: 0.7555132508277893\n",
            "Epoch 93/150 ---> Train Accuracy: 0.7554176449775696, Validation Accuracy: 0.8046311140060425\n",
            "Epoch 94/150 ---> Train Accuracy: 0.756099283695221, Validation Accuracy: 0.7983159422874451\n",
            "Epoch 95/150 ---> Train Accuracy: 0.7586377263069153, Validation Accuracy: 0.7353648543357849\n",
            "Epoch 96/150 ---> Train Accuracy: 0.7616462111473083, Validation Accuracy: 0.7716519832611084\n",
            "Epoch 97/150 ---> Train Accuracy: 0.7561697959899902, Validation Accuracy: 0.7940056324005127\n",
            "Epoch 98/150 ---> Train Accuracy: 0.7523386478424072, Validation Accuracy: 0.7971130609512329\n",
            "Epoch 99/150 ---> Train Accuracy: 0.7565693855285645, Validation Accuracy: 0.796010434627533\n",
            "Epoch 100/150 ---> Train Accuracy: 0.7603535056114197, Validation Accuracy: 0.7892943024635315\n",
            "Epoch 101/150 ---> Train Accuracy: 0.7604475021362305, Validation Accuracy: 0.797514021396637\n",
            "Epoch 102/150 ---> Train Accuracy: 0.7574625015258789, Validation Accuracy: 0.791399359703064\n",
            "Epoch 103/150 ---> Train Accuracy: 0.7558407187461853, Validation Accuracy: 0.7781676054000854\n",
            "Epoch 104/150 ---> Train Accuracy: 0.7583086490631104, Validation Accuracy: 0.7667402029037476\n",
            "Epoch 105/150 ---> Train Accuracy: 0.7616932392120361, Validation Accuracy: 0.7678428292274475\n",
            "Epoch 106/150 ---> Train Accuracy: 0.7592018246650696, Validation Accuracy: 0.7627305388450623\n",
            "Epoch 107/150 ---> Train Accuracy: 0.762398362159729, Validation Accuracy: 0.7543103694915771\n",
            "Epoch 108/150 ---> Train Accuracy: 0.7533493041992188, Validation Accuracy: 0.779570996761322\n",
            "Epoch 109/150 ---> Train Accuracy: 0.7592958211898804, Validation Accuracy: 0.7729551196098328\n",
            "Epoch 110/150 ---> Train Accuracy: 0.758614182472229, Validation Accuracy: 0.7853849530220032\n",
            "Epoch 111/150 ---> Train Accuracy: 0.7555822134017944, Validation Accuracy: 0.7970128059387207\n",
            "Epoch 112/150 ---> Train Accuracy: 0.75189208984375, Validation Accuracy: 0.8018243908882141\n",
            "Epoch 113/150 ---> Train Accuracy: 0.7587787508964539, Validation Accuracy: 0.7750601172447205\n",
            "Epoch 114/150 ---> Train Accuracy: 0.7600244283676147, Validation Accuracy: 0.7765637636184692\n",
            "Epoch 115/150 ---> Train Accuracy: 0.7608941197395325, Validation Accuracy: 0.7816759943962097\n",
            "Epoch 116/150 ---> Train Accuracy: 0.7580265998840332, Validation Accuracy: 0.8012229204177856\n",
            "Epoch 117/150 ---> Train Accuracy: 0.756592869758606, Validation Accuracy: 0.7691459655761719\n",
            "Epoch 118/150 ---> Train Accuracy: 0.7575564980506897, Validation Accuracy: 0.7662389874458313\n",
            "Epoch 119/150 ---> Train Accuracy: 0.758567214012146, Validation Accuracy: 0.7748596668243408\n",
            "Epoch 120/150 ---> Train Accuracy: 0.7623043060302734, Validation Accuracy: 0.7413793206214905\n",
            "Epoch 121/150 ---> Train Accuracy: 0.7576035261154175, Validation Accuracy: 0.7986167073249817\n",
            "Epoch 122/150 ---> Train Accuracy: 0.7596954107284546, Validation Accuracy: 0.779570996761322\n",
            "Epoch 123/150 ---> Train Accuracy: 0.7543599605560303, Validation Accuracy: 0.7671411633491516\n",
            "Epoch 124/150 ---> Train Accuracy: 0.7589432597160339, Validation Accuracy: 0.7885926365852356\n",
            "Epoch 125/150 ---> Train Accuracy: 0.7564753293991089, Validation Accuracy: 0.7844827771186829\n",
            "Epoch 126/150 ---> Train Accuracy: 0.7599069476127625, Validation Accuracy: 0.7461908459663391\n",
            "Epoch 127/150 ---> Train Accuracy: 0.7628684043884277, Validation Accuracy: 0.777566134929657\n",
            "Epoch 128/150 ---> Train Accuracy: 0.754289448261261, Validation Accuracy: 0.8024258017539978\n",
            "Epoch 129/150 ---> Train Accuracy: 0.7521976232528687, Validation Accuracy: 0.7999197840690613\n",
            "Epoch 130/150 ---> Train Accuracy: 0.7602124810218811, Validation Accuracy: 0.7862870693206787\n",
            "Epoch 131/150 ---> Train Accuracy: 0.7559347748756409, Validation Accuracy: 0.7993183732032776\n",
            "Epoch 132/150 ---> Train Accuracy: 0.7616227269172668, Validation Accuracy: 0.7752606272697449\n",
            "Epoch 133/150 ---> Train Accuracy: 0.7573919892311096, Validation Accuracy: 0.7992181181907654\n",
            "Epoch 134/150 ---> Train Accuracy: 0.7589902877807617, Validation Accuracy: 0.7843825221061707\n",
            "Epoch 135/150 ---> Train Accuracy: 0.7578855752944946, Validation Accuracy: 0.7595228552818298\n",
            "Epoch 136/150 ---> Train Accuracy: 0.7599539160728455, Validation Accuracy: 0.7679430842399597\n",
            "Epoch 137/150 ---> Train Accuracy: 0.760424017906189, Validation Accuracy: 0.7766640186309814\n",
            "Epoch 138/150 ---> Train Accuracy: 0.7599539160728455, Validation Accuracy: 0.7610264420509338\n",
            "Epoch 139/150 ---> Train Accuracy: 0.7578385472297668, Validation Accuracy: 0.7656375169754028\n",
            "Epoch 140/150 ---> Train Accuracy: 0.7617167234420776, Validation Accuracy: 0.7631314992904663\n",
            "Epoch 141/150 ---> Train Accuracy: 0.7602595090866089, Validation Accuracy: 0.7861868739128113\n",
            "Epoch 142/150 ---> Train Accuracy: 0.7556762099266052, Validation Accuracy: 0.7895950078964233\n",
            "Epoch 143/150 ---> Train Accuracy: 0.7533258199691772, Validation Accuracy: 0.8000200390815735\n",
            "Epoch 144/150 ---> Train Accuracy: 0.7558642625808716, Validation Accuracy: 0.7969126105308533\n",
            "Epoch 145/150 ---> Train Accuracy: 0.7613641619682312, Validation Accuracy: 0.7757618427276611\n",
            "Epoch 146/150 ---> Train Accuracy: 0.7606590390205383, Validation Accuracy: 0.7904971837997437\n",
            "Epoch 147/150 ---> Train Accuracy: 0.7594133615493774, Validation Accuracy: 0.7985164523124695\n",
            "Epoch 148/150 ---> Train Accuracy: 0.7627509236335754, Validation Accuracy: 0.7526062726974487\n",
            "Epoch 149/150 ---> Train Accuracy: 0.758567214012146, Validation Accuracy: 0.8013231754302979\n"
          ]
        }
      ]
    },
    {
      "cell_type": "code",
      "source": [
        " # Calculate average accuracy\n",
        "import statistics\n",
        "\n",
        "print(\"train accuracy\", statistics.mean(train_accuracy_list))\n",
        "print(\"validation accuracy\", statistics.mean(validation_accuracy_list))"
      ],
      "metadata": {
        "id": "uZOIJlyfXDV-",
        "outputId": "f5f634ad-e823-4793-8b2f-5ca88d83b269",
        "colab": {
          "base_uri": "https://localhost:8080/"
        }
      },
      "execution_count": 20,
      "outputs": [
        {
          "output_type": "stream",
          "name": "stdout",
          "text": [
            "train accuracy 0.7575201733907064\n",
            "validation accuracy 0.7843998928864797\n"
          ]
        }
      ]
    },
    {
      "cell_type": "code",
      "source": [
        "# Plotting the training and validation accuracy\n",
        "plt.plot([i for i in range(len(train_accuracy_list))], train_accuracy_list, label=\"train\")\n",
        "plt.plot([i for i in range(len(validation_accuracy_list))], validation_accuracy_list, label='validation')\n",
        "plt.legend(loc=\"upper left\")\n",
        "plt.xlabel('Epochs')\n",
        "plt.ylabel('Accuracy')"
      ],
      "metadata": {
        "colab": {
          "base_uri": "https://localhost:8080/",
          "height": 470
        },
        "id": "dzHRNdFa6IAR",
        "outputId": "df5b516a-a478-4bab-fac5-13b558195af6"
      },
      "execution_count": 14,
      "outputs": [
        {
          "output_type": "execute_result",
          "data": {
            "text/plain": [
              "Text(0, 0.5, 'Accuracy')"
            ]
          },
          "metadata": {},
          "execution_count": 14
        },
        {
          "output_type": "display_data",
          "data": {
            "text/plain": [
              "<Figure size 640x480 with 1 Axes>"
            ],
            "image/png": "[encoded data removed]"
          },
          "metadata": {}
        }
      ]
    }
  ]
}